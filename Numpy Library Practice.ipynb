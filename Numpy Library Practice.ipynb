{
 "cells": [
  {
   "cell_type": "markdown",
   "id": "9174a680",
   "metadata": {},
   "source": [
    "# Numpy Practice"
   ]
  },
  {
   "cell_type": "code",
   "execution_count": 5,
   "id": "3cdd4891",
   "metadata": {},
   "outputs": [],
   "source": [
    "#Importing the necessary libraries\n",
    "import numpy as np\n",
    "from time import process_time"
   ]
  },
  {
   "cell_type": "code",
   "execution_count": 22,
   "id": "2fb9c6c4",
   "metadata": {},
   "outputs": [
    {
     "name": "stdout",
     "output_type": "stream",
     "text": [
      "Start Time= 1.125 \n",
      "End Time= 2.21875 \n",
      "Time Taken= 1.09375 \n"
     ]
    }
   ],
   "source": [
    "#Creating a list to check the time required to perform an operation\n",
    "\n",
    "list1 = [x for x in range(10000000)]\n",
    "start_time= process_time()\n",
    "list1=[x+5 for x in list1]\n",
    "end_time=process_time()\n",
    "print(\"Start Time= {} \\nEnd Time= {} \\nTime Taken= {} \".format(start_time,end_time, round(end_time-start_time,6)))"
   ]
  },
  {
   "cell_type": "code",
   "execution_count": 31,
   "id": "63daa1dd",
   "metadata": {},
   "outputs": [
    {
     "name": "stdout",
     "output_type": "stream",
     "text": [
      "Start Time 8.78125 \n",
      "End Time 8.78125\n",
      "Time Taken 0.0\n"
     ]
    }
   ],
   "source": [
    "#Creating a numpy array to check the time required to perform the same operation\n",
    "\n",
    "np_array= np.array([x for x in range(10000000)])\n",
    "np_start_time=process_time()\n",
    "np_array=np_array+int(5)\n",
    "np_end_time=process_time()\n",
    "print(\"Start Time {} \\nEnd Time {}\\nTime Taken {}\".format(np_start_time,np_end_time,np_end_time-np_start_time))"
   ]
  },
  {
   "cell_type": "markdown",
   "id": "59d1e4da",
   "metadata": {},
   "source": [
    "Through the above output we can conclude that performaing mathematical operations on numpy array is faster than that of traditional list"
   ]
  },
  {
   "cell_type": "markdown",
   "id": "002c99d8",
   "metadata": {},
   "source": [
    "#### Declaring Numpy Array"
   ]
  },
  {
   "cell_type": "code",
   "execution_count": 33,
   "id": "0d393010",
   "metadata": {},
   "outputs": [
    {
     "name": "stdout",
     "output_type": "stream",
     "text": [
      "[1, 2, 3, 4, 5]\n",
      "<class 'list'>\n"
     ]
    }
   ],
   "source": [
    "#Declaring a list in traditional python \n",
    "list1=[1,2,3,4,5]\n",
    "print(list1)\n",
    "print(type(list1))"
   ]
  },
  {
   "cell_type": "code",
   "execution_count": 34,
   "id": "f7c0e315",
   "metadata": {},
   "outputs": [
    {
     "name": "stdout",
     "output_type": "stream",
     "text": [
      "[1 2 3 4 5]\n",
      "<class 'numpy.ndarray'>\n"
     ]
    }
   ],
   "source": [
    "#Declaring a numpy array \n",
    "np_array=np.array([1,2,3,4,5])\n",
    "print(np_array)\n",
    "print(type(np_array))"
   ]
  },
  {
   "cell_type": "markdown",
   "id": "9d2a0ee1",
   "metadata": {},
   "source": [
    "Through the above excersice we see that the elements in traditional python list are sepearted by comma whereas in a numpy array the elements are seperated by spaces "
   ]
  },
  {
   "cell_type": "markdown",
   "id": "33fbe21e",
   "metadata": {},
   "source": [
    "#### Shape Function"
   ]
  },
  {
   "cell_type": "code",
   "execution_count": 38,
   "id": "dda32362",
   "metadata": {},
   "outputs": [
    {
     "data": {
      "text/plain": [
       "(5,)"
      ]
     },
     "execution_count": 38,
     "metadata": {},
     "output_type": "execute_result"
    }
   ],
   "source": [
    "#declaring a one dimentional numpy array\n",
    "np_array=np.array([1,2,3,4,5])\n",
    "np_array.shape"
   ]
  },
  {
   "cell_type": "code",
   "execution_count": 39,
   "id": "598ea26b",
   "metadata": {},
   "outputs": [
    {
     "name": "stdout",
     "output_type": "stream",
     "text": [
      "[[ 1  2  3  4  5]\n",
      " [ 6  7  8  9 10]]\n"
     ]
    },
    {
     "data": {
      "text/plain": [
       "(2, 5)"
      ]
     },
     "execution_count": 39,
     "metadata": {},
     "output_type": "execute_result"
    }
   ],
   "source": [
    "#creating a two dimentional numpy array\n",
    "np_array=np.array([(1,2,3,4,5),(6,7,8,9,10)])\n",
    "print(np_array)\n",
    "np_array.shape"
   ]
  },
  {
   "cell_type": "code",
   "execution_count": 42,
   "id": "bc01cbee",
   "metadata": {},
   "outputs": [
    {
     "name": "stdout",
     "output_type": "stream",
     "text": [
      "[[ 1.  2.  3.  4.  5.]\n",
      " [ 6.  7.  8.  9. 10.]]\n"
     ]
    },
    {
     "data": {
      "text/plain": [
       "(2, 5)"
      ]
     },
     "execution_count": 42,
     "metadata": {},
     "output_type": "execute_result"
    }
   ],
   "source": [
    "#creating a two dimentional numpy array with datatype as float\n",
    "np_array=np.array([(1,2,3,4,5),(6,7,8,9,10)],dtype=float)\n",
    "print(np_array)\n",
    "np_array.shape"
   ]
  },
  {
   "cell_type": "markdown",
   "id": "ea83646c",
   "metadata": {},
   "source": [
    "#### Initial Placeholders"
   ]
  },
  {
   "cell_type": "code",
   "execution_count": 46,
   "id": "efdcb7aa",
   "metadata": {},
   "outputs": [
    {
     "name": "stdout",
     "output_type": "stream",
     "text": [
      "[[0. 0.]\n",
      " [0. 0.]]\n"
     ]
    }
   ],
   "source": [
    "#creating a numpy array with initial values as zeros\n",
    "np_array=np.zeros((2,2))\n",
    "print(np_array)"
   ]
  },
  {
   "cell_type": "code",
   "execution_count": 47,
   "id": "da016871",
   "metadata": {},
   "outputs": [
    {
     "name": "stdout",
     "output_type": "stream",
     "text": [
      "[[1. 1. 1.]\n",
      " [1. 1. 1.]\n",
      " [1. 1. 1.]]\n"
     ]
    }
   ],
   "source": [
    "#Creating a numpy array with initial values as ones\n",
    "np_array=np.ones((3,3))\n",
    "print(np_array)"
   ]
  },
  {
   "cell_type": "code",
   "execution_count": 48,
   "id": "87af3e5e",
   "metadata": {},
   "outputs": [
    {
     "name": "stdout",
     "output_type": "stream",
     "text": [
      "[[5 5 5]\n",
      " [5 5 5]\n",
      " [5 5 5]]\n"
     ]
    }
   ],
   "source": [
    "#Creating a value with a particular value\n",
    "np_array=np.full((3,3),5)\n",
    "print(np_array)"
   ]
  },
  {
   "cell_type": "code",
   "execution_count": 49,
   "id": "900298c9",
   "metadata": {},
   "outputs": [
    {
     "name": "stdout",
     "output_type": "stream",
     "text": [
      "[[1. 0. 0.]\n",
      " [0. 1. 0.]\n",
      " [0. 0. 1.]]\n"
     ]
    }
   ],
   "source": [
    "#Creating an Identity matrix of particular dimention\n",
    "np_array=np.eye(3)\n",
    "print(np_array)"
   ]
  },
  {
   "cell_type": "code",
   "execution_count": 50,
   "id": "4731e428",
   "metadata": {},
   "outputs": [
    {
     "name": "stdout",
     "output_type": "stream",
     "text": [
      "[[0.92685045 0.59731292 0.41531515]\n",
      " [0.94520677 0.94367205 0.1580501 ]\n",
      " [0.39947169 0.76894575 0.20108771]]\n"
     ]
    }
   ],
   "source": [
    "#creating a numpy array with random values\n",
    "np_array=np.random.random((3,3))\n",
    "print(np_array)"
   ]
  },
  {
   "cell_type": "code",
   "execution_count": 52,
   "id": "ec38482f",
   "metadata": {},
   "outputs": [
    {
     "name": "stdout",
     "output_type": "stream",
     "text": [
      "[[92 49 76]\n",
      " [95 45 40]\n",
      " [ 6  4 27]]\n"
     ]
    }
   ],
   "source": [
    "#creating a numpy array with random integers\n",
    "np_array=np.random.randint(1,100,(3,3))\n",
    "print(np_array)"
   ]
  },
  {
   "cell_type": "code",
   "execution_count": 54,
   "id": "a7368f98",
   "metadata": {},
   "outputs": [
    {
     "name": "stdout",
     "output_type": "stream",
     "text": [
      "[10. 14. 18. 22. 26. 30.]\n"
     ]
    }
   ],
   "source": [
    "#creating an array of evenly spaced values (Specifying the number of elements)\n",
    "np_array=np.linspace(10,30,6)\n",
    "print(np_array)"
   ]
  },
  {
   "cell_type": "code",
   "execution_count": 56,
   "id": "c29cacfd",
   "metadata": {},
   "outputs": [
    {
     "name": "stdout",
     "output_type": "stream",
     "text": [
      "[10 15 20 25]\n"
     ]
    }
   ],
   "source": [
    "#creating an array of evenly spaced values (Specifying the size of step)\n",
    "np_array=np.arange(10,30,5)\n",
    "print(np_array)"
   ]
  },
  {
   "cell_type": "code",
   "execution_count": 57,
   "id": "389ecb95",
   "metadata": {},
   "outputs": [
    {
     "name": "stdout",
     "output_type": "stream",
     "text": [
      "[1 2 3 4 5]\n"
     ]
    },
    {
     "data": {
      "text/plain": [
       "numpy.ndarray"
      ]
     },
     "execution_count": 57,
     "metadata": {},
     "output_type": "execute_result"
    }
   ],
   "source": [
    "#Converting a list to numpy array\n",
    "list1=[1,2,3,4,5]\n",
    "np_array=np.array(list1)\n",
    "print(np_array)\n",
    "type(np_array)"
   ]
  },
  {
   "cell_type": "markdown",
   "id": "2345e3e3",
   "metadata": {},
   "source": [
    "#### Analysing Numpy Array"
   ]
  },
  {
   "cell_type": "code",
   "execution_count": 63,
   "id": "a6448d1c",
   "metadata": {},
   "outputs": [
    {
     "name": "stdout",
     "output_type": "stream",
     "text": [
      "[[67 68 38 40 11]\n",
      " [ 4 23 51 11 63]\n",
      " [25 59 35 61 46]\n",
      " [91 99 92 24  3]\n",
      " [34 90 83 86 42]]\n"
     ]
    }
   ],
   "source": [
    "#Creating an array of random numbers between 1 to 100 \n",
    "np_array=np.random.randint(1,100,(5,5))\n",
    "print(np_array)"
   ]
  },
  {
   "cell_type": "code",
   "execution_count": 64,
   "id": "fa17ec8f",
   "metadata": {},
   "outputs": [
    {
     "data": {
      "text/plain": [
       "(5, 5)"
      ]
     },
     "execution_count": 64,
     "metadata": {},
     "output_type": "execute_result"
    }
   ],
   "source": [
    "#displaying number of columns and rows\n",
    "np_array.shape"
   ]
  },
  {
   "cell_type": "code",
   "execution_count": 65,
   "id": "8bbc11c8",
   "metadata": {},
   "outputs": [
    {
     "data": {
      "text/plain": [
       "2"
      ]
     },
     "execution_count": 65,
     "metadata": {},
     "output_type": "execute_result"
    }
   ],
   "source": [
    "#displaying dimentions of array\n",
    "np_array.ndim"
   ]
  },
  {
   "cell_type": "code",
   "execution_count": 66,
   "id": "7836b194",
   "metadata": {},
   "outputs": [
    {
     "data": {
      "text/plain": [
       "25"
      ]
     },
     "execution_count": 66,
     "metadata": {},
     "output_type": "execute_result"
    }
   ],
   "source": [
    "#displaying the number of elements present in an array\n",
    "np_array.size"
   ]
  },
  {
   "cell_type": "code",
   "execution_count": 67,
   "id": "dcb4528f",
   "metadata": {},
   "outputs": [
    {
     "data": {
      "text/plain": [
       "dtype('int32')"
      ]
     },
     "execution_count": 67,
     "metadata": {},
     "output_type": "execute_result"
    }
   ],
   "source": [
    "#displaying the datatype of elements present in an array\n",
    "np_array.dtype"
   ]
  },
  {
   "cell_type": "markdown",
   "id": "8a38317a",
   "metadata": {},
   "source": [
    "#### Mathematical Functions"
   ]
  },
  {
   "cell_type": "code",
   "execution_count": 69,
   "id": "c53bad65",
   "metadata": {},
   "outputs": [
    {
     "name": "stdout",
     "output_type": "stream",
     "text": [
      "Array 1\n",
      "[[88 81 32]\n",
      " [63  7  9]\n",
      " [89  3 71]] \n",
      "Array 2\n",
      "[[74 39 17]\n",
      " [24 13 44]\n",
      " [21  9 21]]\n"
     ]
    }
   ],
   "source": [
    "np_array_1=np.random.randint(1,100,(3,3))\n",
    "np_array_2=np.random.randint(1,100,(3,3))\n",
    "\n",
    "print(\"Array 1\\n{} \\nArray 2\\n{}\".format(np_array_1,np_array_2))"
   ]
  },
  {
   "cell_type": "code",
   "execution_count": 79,
   "id": "dd408906",
   "metadata": {},
   "outputs": [
    {
     "name": "stdout",
     "output_type": "stream",
     "text": [
      "\n",
      "Addition Result\n",
      " [[162 120  49]\n",
      " [ 87  20  53]\n",
      " [110  12  92]]\n",
      "\n",
      "Subtraction Result\n",
      " [[ 14  42  15]\n",
      " [ 39  -6 -35]\n",
      " [ 68  -6  50]]\n",
      "\n",
      "Multiplication Result\n",
      " [[6512 3159  544]\n",
      " [1512   91  396]\n",
      " [1869   27 1491]]\n",
      "\n",
      "Division Result\n",
      " [[1.18918919 2.07692308 1.88235294]\n",
      " [2.625      0.53846154 0.20454545]\n",
      " [4.23809524 0.33333333 3.38095238]]\n"
     ]
    }
   ],
   "source": [
    "#Mathematical Operations\n",
    "\n",
    "#Addition\n",
    "print(\"\\nAddition Result\\n\",np_array_1+np_array_2)\n",
    "\n",
    "#Subtraction\n",
    "print(\"\\nSubtraction Result\\n\",np_array_1-np_array_2)\n",
    "\n",
    "#Multiplication\n",
    "print(\"\\nMultiplication Result\\n\",np_array_1*np_array_2)\n",
    "\n",
    "#Division \n",
    "print(\"\\nDivision Result\\n\",np_array_1/np_array_2)\n"
   ]
  },
  {
   "cell_type": "code",
   "execution_count": 78,
   "id": "23f2696f",
   "metadata": {},
   "outputs": [
    {
     "name": "stdout",
     "output_type": "stream",
     "text": [
      "\n",
      "Addition Result\n",
      " [[162 120  49]\n",
      " [ 87  20  53]\n",
      " [110  12  92]]\n",
      "\n",
      "Subtraction Result\n",
      " [[ 14  42  15]\n",
      " [ 39  -6 -35]\n",
      " [ 68  -6  50]]\n",
      "\n",
      "Multiplication Result\n",
      " [[6512 3159  544]\n",
      " [1512   91  396]\n",
      " [1869   27 1491]]\n",
      "\n",
      "Division Result\n",
      " [[1.18918919 2.07692308 1.88235294]\n",
      " [2.625      0.53846154 0.20454545]\n",
      " [4.23809524 0.33333333 3.38095238]]\n"
     ]
    }
   ],
   "source": [
    "#Mathematical Operations Using Functions\n",
    "\n",
    "#Addition\n",
    "print(\"\\nAddition Result\\n\",np.add(np_array_1,np_array_2))\n",
    "\n",
    "#Subtraction\n",
    "print(\"\\nSubtraction Result\\n\",np.subtract(np_array_1,np_array_2))\n",
    "\n",
    "#Multiplication\n",
    "print(\"\\nMultiplication Result\\n\",np.multiply(np_array_1,np_array_2))\n",
    "\n",
    "#Division\n",
    "print(\"\\nDivision Result\\n\",np.divide(np_array_1,np_array_2))"
   ]
  },
  {
   "cell_type": "markdown",
   "id": "6c49a3d3",
   "metadata": {},
   "source": [
    "#### Array Manipulation"
   ]
  },
  {
   "cell_type": "code",
   "execution_count": 81,
   "id": "6e635889",
   "metadata": {},
   "outputs": [
    {
     "name": "stdout",
     "output_type": "stream",
     "text": [
      "[[71 69 15]\n",
      " [38 87 93]]\n"
     ]
    },
    {
     "data": {
      "text/plain": [
       "(2, 3)"
      ]
     },
     "execution_count": 81,
     "metadata": {},
     "output_type": "execute_result"
    }
   ],
   "source": [
    "#Creating a numpy array\n",
    "np_array=np.random.randint(1,100,(2,3))\n",
    "print(np_array)\n",
    "np_array.shape"
   ]
  },
  {
   "cell_type": "code",
   "execution_count": 82,
   "id": "57d9b0c7",
   "metadata": {
    "scrolled": true
   },
   "outputs": [
    {
     "name": "stdout",
     "output_type": "stream",
     "text": [
      "[[71 38]\n",
      " [69 87]\n",
      " [15 93]]\n"
     ]
    },
    {
     "data": {
      "text/plain": [
       "(3, 2)"
      ]
     },
     "execution_count": 82,
     "metadata": {},
     "output_type": "execute_result"
    }
   ],
   "source": [
    "#Creating a transpose of np_array\n",
    "np_array_transpose=np.transpose(np_array)\n",
    "print(np_array_transpose)\n",
    "np_array_transpose.shape"
   ]
  },
  {
   "cell_type": "code",
   "execution_count": 84,
   "id": "4bd41f34",
   "metadata": {},
   "outputs": [
    {
     "name": "stdout",
     "output_type": "stream",
     "text": [
      "[[71 38]\n",
      " [69 87]\n",
      " [15 93]]\n"
     ]
    },
    {
     "data": {
      "text/plain": [
       "(3, 2)"
      ]
     },
     "execution_count": 84,
     "metadata": {},
     "output_type": "execute_result"
    }
   ],
   "source": [
    "#Method 2 : Finding Transpose (With .T )\n",
    "np_array_transpose_2=np_array.T\n",
    "print(np_array_transpose_2)\n",
    "np_array_transpose_2.shape"
   ]
  },
  {
   "cell_type": "code",
   "execution_count": 86,
   "id": "03669efd",
   "metadata": {},
   "outputs": [
    {
     "name": "stdout",
     "output_type": "stream",
     "text": [
      "[[71 69]\n",
      " [15 38]\n",
      " [87 93]]\n"
     ]
    },
    {
     "data": {
      "text/plain": [
       "(3, 2)"
      ]
     },
     "execution_count": 86,
     "metadata": {},
     "output_type": "execute_result"
    }
   ],
   "source": [
    "#reshape an array\n",
    "np_array_reshaped=np.reshape(np_array,(3,2))\n",
    "print(np_array_reshaped)\n",
    "np_array_reshaped.shape"
   ]
  }
 ],
 "metadata": {
  "kernelspec": {
   "display_name": "Python 3",
   "language": "python",
   "name": "python3"
  },
  "language_info": {
   "codemirror_mode": {
    "name": "ipython",
    "version": 3
   },
   "file_extension": ".py",
   "mimetype": "text/x-python",
   "name": "python",
   "nbconvert_exporter": "python",
   "pygments_lexer": "ipython3",
   "version": "3.8.8"
  }
 },
 "nbformat": 4,
 "nbformat_minor": 5
}
